{
 "cells": [
  {
   "cell_type": "markdown",
   "id": "e9b365be-557e-44af-9d42-4bddd7080d3e",
   "metadata": {},
   "source": [
    "## Retrieve Weather Data from World Weather Online\n",
    "\n",
    "Usage:\n",
    "\n",
    "1. Retrieve an API from form https://www.worldweatheronline.com/developer/api/\n",
    "2. Execute this notebook to download the data\n",
    "\n",
    "Reference: https://towardsdatascience.com/obtain-historical-weather-forecast-data-in-csv-format-using-python-5a6c090fc828"
   ]
  },
  {
   "cell_type": "code",
   "execution_count": 3,
   "id": "43942e35-72f2-40bb-aa67-b465011d5a13",
   "metadata": {},
   "outputs": [
    {
     "name": "stdout",
     "output_type": "stream",
     "text": [
      "Requirement already satisfied: wwo-hist in /Users/fwilhelm/.mambaforge/envs/wald-stack/lib/python3.8/site-packages (0.0.7)\n"
     ]
    }
   ],
   "source": [
    "!pip install wwo-hist"
   ]
  },
  {
   "cell_type": "code",
   "execution_count": 4,
   "id": "447eb0ac-8a87-4715-b97e-8f5a2dcc50cb",
   "metadata": {},
   "outputs": [],
   "source": [
    "from wwo_hist import retrieve_hist_data"
   ]
  },
  {
   "cell_type": "code",
   "execution_count": 2,
   "id": "0f8ae288-9c2b-4dde-822a-f034f905d9a9",
   "metadata": {},
   "outputs": [
    {
     "data": {
      "text/plain": [
       "'/Users/fwilhelm/Sources/wald-stack-demo/notebooks'"
      ]
     },
     "execution_count": 2,
     "metadata": {},
     "output_type": "execute_result"
    }
   ],
   "source": [
    "os.getcwd()"
   ]
  },
  {
   "cell_type": "code",
   "execution_count": null,
   "id": "413f5648-e614-4dd4-ad3b-92ba62e65dbc",
   "metadata": {},
   "outputs": [],
   "source": [
    "frequency=3\n",
    "start_date = '11-DEC-2018'\n",
    "end_date = '11-MAR-2019'\n",
    "api_key = 'YOUR_API_KEY'\n",
    "location_list = ['singapore','california']\n",
    "\n",
    "hist_weather_data = retrieve_hist_data(api_key,\n",
    "                                location_list,\n",
    "                                start_date,\n",
    "                                end_date,\n",
    "                                frequency,\n",
    "                                location_label = False,\n",
    "                                export_csv = True,\n",
    "                                store_df = True)"
   ]
  }
 ],
 "metadata": {
  "kernelspec": {
   "display_name": "Python 3 (ipykernel)",
   "language": "python",
   "name": "python3"
  },
  "language_info": {
   "codemirror_mode": {
    "name": "ipython",
    "version": 3
   },
   "file_extension": ".py",
   "mimetype": "text/x-python",
   "name": "python",
   "nbconvert_exporter": "python",
   "pygments_lexer": "ipython3",
   "version": "3.8.15"
  }
 },
 "nbformat": 4,
 "nbformat_minor": 5
}
