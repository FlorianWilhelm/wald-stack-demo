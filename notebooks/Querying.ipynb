{
 "cells": [
  {
   "cell_type": "code",
   "execution_count": 1,
   "id": "2e97c9b5-5f2a-4d28-a288-af4b1ab4ae3d",
   "metadata": {},
   "outputs": [],
   "source": [
    "import pyodbc\n",
    "import sys\n",
    "import os"
   ]
  },
  {
   "cell_type": "code",
   "execution_count": 2,
   "id": "30d99ed1-02d6-4980-893c-d78956477f30",
   "metadata": {},
   "outputs": [],
   "source": [
    "import dbt"
   ]
  },
  {
   "cell_type": "markdown",
   "id": "2253bb69-e2e2-4640-a439-65735a4e58df",
   "metadata": {},
   "source": [
    "Snowflake ODBC Driver Download: https://sfc-repo.snowflakecomputing.com/odbc/index.html\n",
    "\n",
    "2) Create the ODBC DSN and Test if the ODBC DSN is working fine.\n",
    "      https://docs.snowflake.net/manuals/user-guide/odbc.html"
   ]
  },
  {
   "cell_type": "code",
   "execution_count": null,
   "id": "54424470-7302-4cb7-8776-358694cc41d6",
   "metadata": {},
   "outputs": [],
   "source": [
    "con = pyodbc.connect('DSN=SNOWFLAKE_ODBC_DSN_NAME;UID=user1;PWD=Abc@123')\n",
    "con.setencoding(encoding='utf-8')\n",
    "con.setdecoding(pyodbc.SQL_CHAR, encoding='utf-8')\n",
    "cursor=con.cursor()\n",
    "cursor.execute(\"SELECT * from EMP\")\n",
    "\n",
    "while True:\n",
    "        row=cursor.fetchone()                                                                                                                                               \n",
    "        if not row:                                                                                                                                                         \n",
    "                break                                                                                                                                                       \n",
    "        print(row)"
   ]
  },
  {
   "cell_type": "code",
   "execution_count": 7,
   "id": "abf53273-c73c-48ff-ac15-d67652b84541",
   "metadata": {},
   "outputs": [],
   "source": [
    "from dbt.adapters.snowflake.connections import SnowflakeConnectionManager"
   ]
  },
  {
   "cell_type": "code",
   "execution_count": 41,
   "id": "073fe301-2012-4ca6-a9cb-49393b22f7ea",
   "metadata": {},
   "outputs": [],
   "source": [
    "from dbt.config import Profile"
   ]
  },
  {
   "cell_type": "code",
   "execution_count": 23,
   "id": "240aa603-cf2e-400d-835e-884a3938f3ce",
   "metadata": {},
   "outputs": [],
   "source": [
    "from dbt.adapters.snowflake.connections import SnowflakeCredentials"
   ]
  },
  {
   "cell_type": "code",
   "execution_count": 29,
   "id": "2e35a451-545d-4a5a-b1ee-49acd9027eb9",
   "metadata": {},
   "outputs": [],
   "source": [
    "from dbt.task.base import read_profiles"
   ]
  },
  {
   "cell_type": "code",
   "execution_count": 58,
   "id": "40a63027-3592-489c-9144-83c114cd9806",
   "metadata": {},
   "outputs": [
    {
     "data": {
      "text/plain": [
       "{'account': 'oyusxah-nu89501',\n",
       " 'database': 'MyDB',\n",
       " 'password': 'GUocXwu6UEJZ8hSjAm',\n",
       " 'role': 'accountadmin',\n",
       " 'schema': 'MySchema',\n",
       " 'threads': 1,\n",
       " 'user': 'fwilhelm',\n",
       " 'warehouse': 'TPCDS_BENCH_10T'}"
      ]
     },
     "execution_count": 58,
     "metadata": {},
     "output_type": "execute_result"
    }
   ],
   "source": [
    "profiles[\"dbt_snowflake\"][\"outputs\"][\"dev\"]"
   ]
  },
  {
   "cell_type": "code",
   "execution_count": 63,
   "id": "60652ac6-50d3-46c3-a160-eb6a6a1a0083",
   "metadata": {},
   "outputs": [],
   "source": [
    "profiles = read_profiles()\n",
    "creds = Profile._credentials_from_profile(profiles[\"dbt_snowflake\"][\"outputs\"][\"dev\"], \"dbt_snowflake\", \"dev\")\n",
    "profile = Profile.from_credentials(creds, 1, \"dbt_snowflake\", \"dev\")"
   ]
  },
  {
   "cell_type": "code",
   "execution_count": 65,
   "id": "9a28e4df-483c-4347-8694-3f27069ef302",
   "metadata": {},
   "outputs": [],
   "source": [
    "manager = SnowflakeConnectionManager(profile)"
   ]
  },
  {
   "cell_type": "code",
   "execution_count": 36,
   "id": "ca30094b-03c4-4cfd-9da4-6ce5d9f98a2c",
   "metadata": {},
   "outputs": [],
   "source": [
    "from dbt.adapters.snowflake.impl import SnowflakeAdapter"
   ]
  },
  {
   "cell_type": "code",
   "execution_count": 66,
   "id": "a9a1c578-0916-4a98-b0d8-c1d845f53b9c",
   "metadata": {},
   "outputs": [],
   "source": [
    "adapter = SnowflakeAdapter(profile)"
   ]
  },
  {
   "cell_type": "code",
   "execution_count": 67,
   "id": "0ac9cb7a-b502-4a3d-a1f0-abba72432463",
   "metadata": {},
   "outputs": [
    {
     "data": {
      "text/plain": [
       "Connection(type='snowflake', name='master', state=<ConnectionState.INIT: 'init'>, transaction_open=False, _handle=<dbt.contracts.connection.LazyHandle object at 0x11f0d4b50>, _credentials=SnowflakeCredentials(database='MyDB', schema='MySchema', account='oyusxah-nu89501', user='fwilhelm', warehouse='TPCDS_BENCH_10T', role='accountadmin', password='GUocXwu6UEJZ8hSjAm', authenticator=None, private_key_path=None, private_key_passphrase=None, token=None, oauth_client_id=None, oauth_client_secret=None, query_tag=None, client_session_keep_alive=False, host=None, port=None, proxy_host=None, proxy_port=None, protocol=None, connect_retries=1, connect_timeout=None, retry_on_database_errors=False, retry_all=False, insecure_mode=False))"
      ]
     },
     "execution_count": 67,
     "metadata": {},
     "output_type": "execute_result"
    }
   ],
   "source": [
    "adapter.acquire_connection()"
   ]
  },
  {
   "cell_type": "code",
   "execution_count": 78,
   "id": "520a6953-e8e1-4c10-88e3-1e4c878ca317",
   "metadata": {},
   "outputs": [],
   "source": [
    "a, b = adapter.execute(\"SHOW DATABASES;\")"
   ]
  },
  {
   "cell_type": "code",
   "execution_count": 81,
   "id": "ce95eeb6-5ed0-4c1a-9070-17bcfcc72063",
   "metadata": {},
   "outputs": [
    {
     "ename": "TypeError",
     "evalue": "to_json() missing 1 required positional argument: 'path'",
     "output_type": "error",
     "traceback": [
      "\u001b[0;31m---------------------------------------------------------------------------\u001b[0m",
      "\u001b[0;31mTypeError\u001b[0m                                 Traceback (most recent call last)",
      "Cell \u001b[0;32mIn [81], line 1\u001b[0m\n\u001b[0;32m----> 1\u001b[0m \u001b[43mb\u001b[49m\u001b[38;5;241;43m.\u001b[39;49m\u001b[43mto_json\u001b[49m\u001b[43m(\u001b[49m\u001b[43m)\u001b[49m\n",
      "\u001b[0;31mTypeError\u001b[0m: to_json() missing 1 required positional argument: 'path'"
     ]
    }
   ],
   "source": [
    "b."
   ]
  },
  {
   "cell_type": "code",
   "execution_count": 79,
   "id": "4d120347-53b1-4b5a-b361-414c8d1dc477",
   "metadata": {},
   "outputs": [
    {
     "name": "stdout",
     "output_type": "stream",
     "text": [
      "| column | data_type |\n",
      "| ------ | --------- |\n",
      "\n"
     ]
    }
   ],
   "source": [
    "print(b)"
   ]
  },
  {
   "cell_type": "code",
   "execution_count": 25,
   "id": "40beb923-da73-49df-b5ef-5f75423dd380",
   "metadata": {},
   "outputs": [
    {
     "ename": "TypeError",
     "evalue": "__init__() missing 4 required positional arguments: 'database', 'schema', 'account', and 'user'",
     "output_type": "error",
     "traceback": [
      "\u001b[0;31m---------------------------------------------------------------------------\u001b[0m",
      "\u001b[0;31mTypeError\u001b[0m                                 Traceback (most recent call last)",
      "Cell \u001b[0;32mIn [25], line 1\u001b[0m\n\u001b[0;32m----> 1\u001b[0m \u001b[43mSnowflakeCredentials\u001b[49m\u001b[43m(\u001b[49m\u001b[43m)\u001b[49m\n",
      "\u001b[0;31mTypeError\u001b[0m: __init__() missing 4 required positional arguments: 'database', 'schema', 'account', and 'user'"
     ]
    }
   ],
   "source": [
    "SnowflakeCredentials()"
   ]
  },
  {
   "cell_type": "code",
   "execution_count": 34,
   "id": "e5aab67f-565e-46cf-b17a-6631a46d458e",
   "metadata": {},
   "outputs": [
    {
     "ename": "InvalidConnectionException",
     "evalue": "Runtime Error\n  connection never acquired for thread (95841, 4672374272), have []",
     "output_type": "error",
     "traceback": [
      "\u001b[0;31m---------------------------------------------------------------------------\u001b[0m",
      "\u001b[0;31mInvalidConnectionException\u001b[0m                Traceback (most recent call last)",
      "Cell \u001b[0;32mIn [34], line 1\u001b[0m\n\u001b[0;32m----> 1\u001b[0m \u001b[43mmanager\u001b[49m\u001b[38;5;241;43m.\u001b[39;49m\u001b[43mget_thread_connection\u001b[49m\u001b[43m(\u001b[49m\u001b[43m)\u001b[49m\n",
      "File \u001b[0;32m~/Library/Application Support/hatch/env/virtual/dbt-snowflake/wNBc8aiA/dbt-snowflake/lib/python3.9/site-packages/dbt/adapters/base/connections.py:91\u001b[0m, in \u001b[0;36mBaseConnectionManager.get_thread_connection\u001b[0;34m(self)\u001b[0m\n\u001b[1;32m     89\u001b[0m \u001b[38;5;28;01mwith\u001b[39;00m \u001b[38;5;28mself\u001b[39m\u001b[38;5;241m.\u001b[39mlock:\n\u001b[1;32m     90\u001b[0m     \u001b[38;5;28;01mif\u001b[39;00m key \u001b[38;5;129;01mnot\u001b[39;00m \u001b[38;5;129;01min\u001b[39;00m \u001b[38;5;28mself\u001b[39m\u001b[38;5;241m.\u001b[39mthread_connections:\n\u001b[0;32m---> 91\u001b[0m         \u001b[38;5;28;01mraise\u001b[39;00m dbt\u001b[38;5;241m.\u001b[39mexceptions\u001b[38;5;241m.\u001b[39mInvalidConnectionException(key, \u001b[38;5;28mlist\u001b[39m(\u001b[38;5;28mself\u001b[39m\u001b[38;5;241m.\u001b[39mthread_connections))\n\u001b[1;32m     92\u001b[0m     \u001b[38;5;28;01mreturn\u001b[39;00m \u001b[38;5;28mself\u001b[39m\u001b[38;5;241m.\u001b[39mthread_connections[key]\n",
      "\u001b[0;31mInvalidConnectionException\u001b[0m: Runtime Error\n  connection never acquired for thread (95841, 4672374272), have []"
     ]
    }
   ],
   "source": [
    "manager.get_thread_connection()"
   ]
  },
  {
   "cell_type": "code",
   "execution_count": 16,
   "id": "69ebe855-3cf7-4d13-992f-a70d5449ada9",
   "metadata": {},
   "outputs": [
    {
     "data": {
      "text/plain": [
       "['TYPE',\n",
       " '__abstractmethods__',\n",
       " '__annotations__',\n",
       " '__class__',\n",
       " '__delattr__',\n",
       " '__dict__',\n",
       " '__dir__',\n",
       " '__doc__',\n",
       " '__eq__',\n",
       " '__format__',\n",
       " '__ge__',\n",
       " '__getattribute__',\n",
       " '__gt__',\n",
       " '__hash__',\n",
       " '__init__',\n",
       " '__init_subclass__',\n",
       " '__le__',\n",
       " '__lt__',\n",
       " '__module__',\n",
       " '__ne__',\n",
       " '__new__',\n",
       " '__reduce__',\n",
       " '__reduce_ex__',\n",
       " '__repr__',\n",
       " '__setattr__',\n",
       " '__sizeof__',\n",
       " '__str__',\n",
       " '__subclasshook__',\n",
       " '__weakref__',\n",
       " '_abc_impl',\n",
       " '_add_query_comment',\n",
       " '_close_handle',\n",
       " '_rollback',\n",
       " '_rollback_handle',\n",
       " '_split_queries',\n",
       " 'add_begin_query',\n",
       " 'add_commit_query',\n",
       " 'add_query',\n",
       " 'begin',\n",
       " 'cancel',\n",
       " 'cancel_open',\n",
       " 'cleanup_all',\n",
       " 'clear_thread_connection',\n",
       " 'clear_transaction',\n",
       " 'close',\n",
       " 'commit',\n",
       " 'commit_if_has_connection',\n",
       " 'exception_handler',\n",
       " 'execute',\n",
       " 'get_if_exists',\n",
       " 'get_response',\n",
       " 'get_result_from_cursor',\n",
       " 'get_thread_connection',\n",
       " 'get_thread_identifier',\n",
       " 'open',\n",
       " 'process_results',\n",
       " 'release',\n",
       " 'retry_connection',\n",
       " 'rollback_if_open',\n",
       " 'set_connection_name',\n",
       " 'set_query_header',\n",
       " 'set_thread_connection']"
      ]
     },
     "execution_count": 16,
     "metadata": {},
     "output_type": "execute_result"
    }
   ],
   "source": [
    "dir(SnowflakeConnectionManager)"
   ]
  },
  {
   "cell_type": "code",
   "execution_count": 15,
   "id": "d26c3fa5-d0e0-4e55-b73c-ecc17d3b04d1",
   "metadata": {},
   "outputs": [
    {
     "ename": "InvalidConnectionException",
     "evalue": "Runtime Error\n  connection never acquired for thread (95841, 4672374272), have []",
     "output_type": "error",
     "traceback": [
      "\u001b[0;31m---------------------------------------------------------------------------\u001b[0m",
      "\u001b[0;31mInvalidConnectionException\u001b[0m                Traceback (most recent call last)",
      "Cell \u001b[0;32mIn [15], line 1\u001b[0m\n\u001b[0;32m----> 1\u001b[0m conn \u001b[38;5;241m=\u001b[39m \u001b[43mmanager\u001b[49m\u001b[38;5;241;43m.\u001b[39;49m\u001b[43mget_thread_connection\u001b[49m\u001b[43m(\u001b[49m\u001b[43m)\u001b[49m\n\u001b[1;32m      2\u001b[0m \u001b[38;5;66;03m#.execute(\"SELECT COUNT(*) FROM MYDB\")\u001b[39;00m\n",
      "File \u001b[0;32m~/Library/Application Support/hatch/env/virtual/dbt-snowflake/wNBc8aiA/dbt-snowflake/lib/python3.9/site-packages/dbt/adapters/base/connections.py:91\u001b[0m, in \u001b[0;36mBaseConnectionManager.get_thread_connection\u001b[0;34m(self)\u001b[0m\n\u001b[1;32m     89\u001b[0m \u001b[38;5;28;01mwith\u001b[39;00m \u001b[38;5;28mself\u001b[39m\u001b[38;5;241m.\u001b[39mlock:\n\u001b[1;32m     90\u001b[0m     \u001b[38;5;28;01mif\u001b[39;00m key \u001b[38;5;129;01mnot\u001b[39;00m \u001b[38;5;129;01min\u001b[39;00m \u001b[38;5;28mself\u001b[39m\u001b[38;5;241m.\u001b[39mthread_connections:\n\u001b[0;32m---> 91\u001b[0m         \u001b[38;5;28;01mraise\u001b[39;00m dbt\u001b[38;5;241m.\u001b[39mexceptions\u001b[38;5;241m.\u001b[39mInvalidConnectionException(key, \u001b[38;5;28mlist\u001b[39m(\u001b[38;5;28mself\u001b[39m\u001b[38;5;241m.\u001b[39mthread_connections))\n\u001b[1;32m     92\u001b[0m     \u001b[38;5;28;01mreturn\u001b[39;00m \u001b[38;5;28mself\u001b[39m\u001b[38;5;241m.\u001b[39mthread_connections[key]\n",
      "\u001b[0;31mInvalidConnectionException\u001b[0m: Runtime Error\n  connection never acquired for thread (95841, 4672374272), have []"
     ]
    }
   ],
   "source": [
    "conn = manager.get_thread_connection()\n",
    "#.execute(\"SELECT COUNT(*) FROM MYDB\")"
   ]
  },
  {
   "cell_type": "code",
   "execution_count": null,
   "id": "119e0443-99b7-40b2-8e57-93713eebc749",
   "metadata": {},
   "outputs": [],
   "source": []
  }
 ],
 "metadata": {
  "kernelspec": {
   "display_name": "Python 3 (ipykernel)",
   "language": "python",
   "name": "python3"
  },
  "language_info": {
   "codemirror_mode": {
    "name": "ipython",
    "version": 3
   },
   "file_extension": ".py",
   "mimetype": "text/x-python",
   "name": "python",
   "nbconvert_exporter": "python",
   "pygments_lexer": "ipython3",
   "version": "3.9.10"
  }
 },
 "nbformat": 4,
 "nbformat_minor": 5
}
