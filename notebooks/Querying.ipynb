{
 "cells": [
  {
   "cell_type": "code",
   "execution_count": 1,
   "id": "30d99ed1-02d6-4980-893c-d78956477f30",
   "metadata": {},
   "outputs": [],
   "source": [
    "import dbt\n",
    "from dbt.config import Profile\n",
    "from dbt.task.base import read_profiles\n",
    "from dbt.adapters.snowflake.impl import SnowflakeAdapter"
   ]
  },
  {
   "cell_type": "code",
   "execution_count": 2,
   "id": "8a4a55c8-c781-48bd-bcce-40a1f4048f49",
   "metadata": {},
   "outputs": [],
   "source": [
    "def get_adapter(profile_name, target_name):\n",
    "    raw_profiles = read_profiles()\n",
    "    creds = Profile._credentials_from_profile(raw_profiles[profile_name][\"outputs\"][target_name], profile_name, target_name)\n",
    "    profile = Profile.from_credentials(creds, 1, profile_name, target_name)\n",
    "    adapter = SnowflakeAdapter(profile)\n",
    "    adapter.acquire_connection()\n",
    "    return adapter"
   ]
  },
  {
   "cell_type": "code",
   "execution_count": 5,
   "id": "0f2942de-3045-465f-a850-7b2f140aee39",
   "metadata": {},
   "outputs": [],
   "source": [
    "adapter = get_adapter(profile_name=\"default\", target_name=\"dev\")"
   ]
  },
  {
   "cell_type": "code",
   "execution_count": 11,
   "id": "39a4a1d1-5708-4e7a-93a2-b08f209665d6",
   "metadata": {},
   "outputs": [],
   "source": [
    "query = '''\n",
    "SELECT l_returnflag,\n",
    "       l_linestatus,\n",
    "       sum(l_quantity)      as sum_qty,\n",
    "       sum(l_extendedprice) as sum_base_price,\n",
    "       sum(l_extendedprice * (1 - l_discount))\n",
    "                            as sum_disc_price,\n",
    "       sum(l_extendedprice * (1 - l_discount) *\n",
    "           (1 + l_tax))     as sum_charge,\n",
    "       avg(l_quantity)      as avg_qty,\n",
    "       avg(l_extendedprice) as avg_price,\n",
    "       avg(l_discount)      as avg_disc,\n",
    "       count(*)             as count_order\n",
    "FROM sampledb.tpch_sf100.lineitem\n",
    "WHERE l_shipdate <= dateadd(day, -90, to_date('1998-12-01'))\n",
    "GROUP BY l_returnflag,\n",
    "         l_linestatus\n",
    "ORDER BY l_returnflag,\n",
    "         l_linestatus\n",
    "'''"
   ]
  },
  {
   "cell_type": "code",
   "execution_count": 23,
   "id": "de2b6016-c3d2-4c14-a87b-fe3ba2067204",
   "metadata": {},
   "outputs": [],
   "source": [
    "resp, table = adapter.execute(query, fetch=True)"
   ]
  },
  {
   "cell_type": "code",
   "execution_count": 24,
   "id": "384ba4ea-0413-4da4-85d6-77d272b51fc7",
   "metadata": {},
   "outputs": [
    {
     "name": "stdout",
     "output_type": "stream",
     "text": [
      "SUCCESS 4\n"
     ]
    }
   ],
   "source": [
    "print(resp)"
   ]
  },
  {
   "cell_type": "code",
   "execution_count": 35,
   "id": "5e30953a-d23a-4c2e-ac31-7283cfb8c005",
   "metadata": {},
   "outputs": [
    {
     "name": "stdout",
     "output_type": "stream",
     "text": [
      "| L_RETURNFLAG | L_LINESTATUS |       SUM_QTY |       SUM_BASE_PRICE |       SUM_DISC_PRICE |           SUM_CHARGE | ... |\n",
      "| ------------ | ------------ | ------------- | -------------------- | -------------------- | -------------------- | --- |\n",
      "| A            | F            | 3,775,127,758 | 5,660,776,097,194.45 | 5,377,736,398,183... | 5,592,847,429,515... | ... |\n",
      "| N            | F            |    98,553,062 |   147,771,098,385.98 | 140,384,965,965.035… | 145,999,793,032.776… | ... |\n",
      "| N            | O            | 7,436,302,976 | 11,150,725,681,37... | 10,593,195,308,23... | 11,016,932,248,18... | ... |\n",
      "| R            | F            | 3,775,724,970 | 5,661,603,032,745.34 | 5,378,513,563,915... | 5,593,662,252,666... | ... |\n"
     ]
    }
   ],
   "source": [
    "table.print_table()"
   ]
  },
  {
   "cell_type": "code",
   "execution_count": null,
   "id": "f05be816-0c18-4081-9ac4-c22f0e02d561",
   "metadata": {},
   "outputs": [],
   "source": []
  }
 ],
 "metadata": {
  "kernelspec": {
   "display_name": "Python 3 (ipykernel)",
   "language": "python",
   "name": "python3"
  },
  "language_info": {
   "codemirror_mode": {
    "name": "ipython",
    "version": 3
   },
   "file_extension": ".py",
   "mimetype": "text/x-python",
   "name": "python",
   "nbconvert_exporter": "python",
   "pygments_lexer": "ipython3",
   "version": "3.9.10"
  }
 },
 "nbformat": 4,
 "nbformat_minor": 5
}
