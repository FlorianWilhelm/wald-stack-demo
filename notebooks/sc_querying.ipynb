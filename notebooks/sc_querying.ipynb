{
 "cells": [
  {
   "cell_type": "markdown",
   "id": "91fa4de0-717f-45d0-bec1-7eb617626eee",
   "metadata": {},
   "source": [
    "# Run queries directly using `snowflake-connector-python`"
   ]
  },
  {
   "cell_type": "code",
   "execution_count": 1,
   "id": "30d99ed1-02d6-4980-893c-d78956477f30",
   "metadata": {},
   "outputs": [],
   "source": [
    "from utils import get_cursor"
   ]
  },
  {
   "cell_type": "code",
   "execution_count": 2,
   "id": "0f2942de-3045-465f-a850-7b2f140aee39",
   "metadata": {},
   "outputs": [],
   "source": [
    "cursor = get_cursor(profile_name=\"default\", target_name=\"dev\")"
   ]
  },
  {
   "cell_type": "code",
   "execution_count": 3,
   "id": "39a4a1d1-5708-4e7a-93a2-b08f209665d6",
   "metadata": {},
   "outputs": [],
   "source": [
    "query = '''\n",
    "SELECT l_returnflag,\n",
    "       l_linestatus,\n",
    "       sum(l_quantity)      as sum_qty,\n",
    "       sum(l_extendedprice) as sum_base_price,\n",
    "       sum(l_extendedprice * (1 - l_discount))\n",
    "                            as sum_disc_price,\n",
    "       sum(l_extendedprice * (1 - l_discount) *\n",
    "           (1 + l_tax))     as sum_charge,\n",
    "       avg(l_quantity)      as avg_qty,\n",
    "       avg(l_extendedprice) as avg_price,\n",
    "       avg(l_discount)      as avg_disc,\n",
    "       count(*)             as count_order\n",
    "FROM sampledb.tpch_sf1.lineitem\n",
    "WHERE l_shipdate <= dateadd(day, -90, to_date('1998-12-01'))\n",
    "GROUP BY l_returnflag,\n",
    "         l_linestatus\n",
    "ORDER BY l_returnflag,\n",
    "         l_linestatus\n",
    "'''"
   ]
  },
  {
   "cell_type": "code",
   "execution_count": 4,
   "id": "de2b6016-c3d2-4c14-a87b-fe3ba2067204",
   "metadata": {},
   "outputs": [],
   "source": [
    "df = cursor.execute(query).fetch_pandas_all()"
   ]
  },
  {
   "cell_type": "code",
   "execution_count": 5,
   "id": "384ba4ea-0413-4da4-85d6-77d272b51fc7",
   "metadata": {},
   "outputs": [
    {
     "data": {
      "text/html": [
       "<div>\n",
       "<style scoped>\n",
       "    .dataframe tbody tr th:only-of-type {\n",
       "        vertical-align: middle;\n",
       "    }\n",
       "\n",
       "    .dataframe tbody tr th {\n",
       "        vertical-align: top;\n",
       "    }\n",
       "\n",
       "    .dataframe thead th {\n",
       "        text-align: right;\n",
       "    }\n",
       "</style>\n",
       "<table border=\"1\" class=\"dataframe\">\n",
       "  <thead>\n",
       "    <tr style=\"text-align: right;\">\n",
       "      <th></th>\n",
       "      <th>L_RETURNFLAG</th>\n",
       "      <th>L_LINESTATUS</th>\n",
       "      <th>SUM_QTY</th>\n",
       "      <th>SUM_BASE_PRICE</th>\n",
       "      <th>SUM_DISC_PRICE</th>\n",
       "      <th>SUM_CHARGE</th>\n",
       "      <th>AVG_QTY</th>\n",
       "      <th>AVG_PRICE</th>\n",
       "      <th>AVG_DISC</th>\n",
       "      <th>COUNT_ORDER</th>\n",
       "    </tr>\n",
       "  </thead>\n",
       "  <tbody>\n",
       "    <tr>\n",
       "      <th>0</th>\n",
       "      <td>A</td>\n",
       "      <td>F</td>\n",
       "      <td>37734107.0</td>\n",
       "      <td>56586554400.73</td>\n",
       "      <td>53758257134.8700</td>\n",
       "      <td>55909065222.827692</td>\n",
       "      <td>25.52200585</td>\n",
       "      <td>38273.12973462</td>\n",
       "      <td>0.04998530</td>\n",
       "      <td>1478493</td>\n",
       "    </tr>\n",
       "    <tr>\n",
       "      <th>1</th>\n",
       "      <td>N</td>\n",
       "      <td>F</td>\n",
       "      <td>991417.0</td>\n",
       "      <td>1487504710.38</td>\n",
       "      <td>1413082168.0541</td>\n",
       "      <td>1469649223.194375</td>\n",
       "      <td>25.51647192</td>\n",
       "      <td>38284.46776085</td>\n",
       "      <td>0.05009343</td>\n",
       "      <td>38854</td>\n",
       "    </tr>\n",
       "    <tr>\n",
       "      <th>2</th>\n",
       "      <td>N</td>\n",
       "      <td>O</td>\n",
       "      <td>74476040.0</td>\n",
       "      <td>111701729697.74</td>\n",
       "      <td>106118230307.6056</td>\n",
       "      <td>110367043872.497010</td>\n",
       "      <td>25.50222677</td>\n",
       "      <td>38249.11798891</td>\n",
       "      <td>0.04999659</td>\n",
       "      <td>2920374</td>\n",
       "    </tr>\n",
       "    <tr>\n",
       "      <th>3</th>\n",
       "      <td>R</td>\n",
       "      <td>F</td>\n",
       "      <td>37719753.0</td>\n",
       "      <td>56568041380.90</td>\n",
       "      <td>53741292684.6040</td>\n",
       "      <td>55889619119.831932</td>\n",
       "      <td>25.50579361</td>\n",
       "      <td>38250.85462610</td>\n",
       "      <td>0.05000941</td>\n",
       "      <td>1478870</td>\n",
       "    </tr>\n",
       "  </tbody>\n",
       "</table>\n",
       "</div>"
      ],
      "text/plain": [
       "  L_RETURNFLAG L_LINESTATUS     SUM_QTY   SUM_BASE_PRICE     SUM_DISC_PRICE  \\\n",
       "0            A            F  37734107.0   56586554400.73   53758257134.8700   \n",
       "1            N            F    991417.0    1487504710.38    1413082168.0541   \n",
       "2            N            O  74476040.0  111701729697.74  106118230307.6056   \n",
       "3            R            F  37719753.0   56568041380.90   53741292684.6040   \n",
       "\n",
       "            SUM_CHARGE      AVG_QTY       AVG_PRICE    AVG_DISC  COUNT_ORDER  \n",
       "0   55909065222.827692  25.52200585  38273.12973462  0.04998530      1478493  \n",
       "1    1469649223.194375  25.51647192  38284.46776085  0.05009343        38854  \n",
       "2  110367043872.497010  25.50222677  38249.11798891  0.04999659      2920374  \n",
       "3   55889619119.831932  25.50579361  38250.85462610  0.05000941      1478870  "
      ]
     },
     "execution_count": 5,
     "metadata": {},
     "output_type": "execute_result"
    }
   ],
   "source": [
    "df"
   ]
  },
  {
   "cell_type": "code",
   "execution_count": null,
   "id": "f05be816-0c18-4081-9ac4-c22f0e02d561",
   "metadata": {},
   "outputs": [],
   "source": []
  }
 ],
 "metadata": {
  "kernelspec": {
   "display_name": "Python 3 (ipykernel)",
   "language": "python",
   "name": "python3"
  },
  "language_info": {
   "codemirror_mode": {
    "name": "ipython",
    "version": 3
   },
   "file_extension": ".py",
   "mimetype": "text/x-python",
   "name": "python",
   "nbconvert_exporter": "python",
   "pygments_lexer": "ipython3",
   "version": "3.8.15"
  }
 },
 "nbformat": 4,
 "nbformat_minor": 5
}
