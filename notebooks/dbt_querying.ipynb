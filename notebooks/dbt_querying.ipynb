{
 "cells": [
  {
   "cell_type": "markdown",
   "id": "3e860b88-1713-44e6-a672-c39821eb6bcc",
   "metadata": {
    "tags": []
   },
   "source": [
    "# Run queries directly using dbt"
   ]
  },
  {
   "cell_type": "code",
   "execution_count": 1,
   "id": "30d99ed1-02d6-4980-893c-d78956477f30",
   "metadata": {},
   "outputs": [],
   "source": [
    "from utils import get_adapter"
   ]
  },
  {
   "cell_type": "code",
   "execution_count": 2,
   "id": "0f2942de-3045-465f-a850-7b2f140aee39",
   "metadata": {},
   "outputs": [],
   "source": [
    "adapter = get_adapter(profile_name=\"default\", target_name=\"dev\")"
   ]
  },
  {
   "cell_type": "code",
   "execution_count": 3,
   "id": "39a4a1d1-5708-4e7a-93a2-b08f209665d6",
   "metadata": {},
   "outputs": [],
   "source": [
    "query = '''\n",
    "SELECT l_returnflag,\n",
    "       l_linestatus,\n",
    "       sum(l_quantity)      as sum_qty,\n",
    "       sum(l_extendedprice) as sum_base_price,\n",
    "       sum(l_extendedprice * (1 - l_discount))\n",
    "                            as sum_disc_price,\n",
    "       sum(l_extendedprice * (1 - l_discount) *\n",
    "           (1 + l_tax))     as sum_charge,\n",
    "       avg(l_quantity)      as avg_qty,\n",
    "       avg(l_extendedprice) as avg_price,\n",
    "       avg(l_discount)      as avg_disc,\n",
    "       count(*)             as count_order\n",
    "FROM sampledb.tpch_sf1.lineitem\n",
    "WHERE l_shipdate <= dateadd(day, -90, to_date('1998-12-01'))\n",
    "GROUP BY l_returnflag,\n",
    "         l_linestatus\n",
    "ORDER BY l_returnflag,\n",
    "         l_linestatus\n",
    "'''"
   ]
  },
  {
   "cell_type": "code",
   "execution_count": 4,
   "id": "de2b6016-c3d2-4c14-a87b-fe3ba2067204",
   "metadata": {},
   "outputs": [],
   "source": [
    "resp, table = adapter.execute(query, fetch=True)"
   ]
  },
  {
   "cell_type": "code",
   "execution_count": 5,
   "id": "384ba4ea-0413-4da4-85d6-77d272b51fc7",
   "metadata": {},
   "outputs": [
    {
     "name": "stdout",
     "output_type": "stream",
     "text": [
      "SUCCESS 4\n"
     ]
    }
   ],
   "source": [
    "print(resp)"
   ]
  },
  {
   "cell_type": "code",
   "execution_count": 6,
   "id": "5e30953a-d23a-4c2e-ac31-7283cfb8c005",
   "metadata": {},
   "outputs": [
    {
     "name": "stdout",
     "output_type": "stream",
     "text": [
      "| L_RETURNFLAG | L_LINESTATUS |    SUM_QTY |     SUM_BASE_PRICE |       SUM_DISC_PRICE |           SUM_CHARGE | ... |\n",
      "| ------------ | ------------ | ---------- | ------------------ | -------------------- | -------------------- | --- |\n",
      "| A            | F            | 37,734,107 |  56,586,554,400.73 |  53,758,257,134.870… |  55,909,065,222.828… | ... |\n",
      "| N            | F            |    991,417 |   1,487,504,710.38 |   1,413,082,168.054… |   1,469,649,223.194… | ... |\n",
      "| N            | O            | 74,476,040 | 111,701,729,697.74 | 106,118,230,307.606… | 110,367,043,872.497… | ... |\n",
      "| R            | F            | 37,719,753 |  56,568,041,380.90 |  53,741,292,684.604… |  55,889,619,119.832… | ... |\n"
     ]
    }
   ],
   "source": [
    "table.print_table()"
   ]
  },
  {
   "cell_type": "code",
   "execution_count": null,
   "id": "f05be816-0c18-4081-9ac4-c22f0e02d561",
   "metadata": {},
   "outputs": [],
   "source": []
  }
 ],
 "metadata": {
  "kernelspec": {
   "display_name": "Python 3 (ipykernel)",
   "language": "python",
   "name": "python3"
  },
  "language_info": {
   "codemirror_mode": {
    "name": "ipython",
    "version": 3
   },
   "file_extension": ".py",
   "mimetype": "text/x-python",
   "name": "python",
   "nbconvert_exporter": "python",
   "pygments_lexer": "ipython3",
   "version": "3.8.15"
  }
 },
 "nbformat": 4,
 "nbformat_minor": 5
}
